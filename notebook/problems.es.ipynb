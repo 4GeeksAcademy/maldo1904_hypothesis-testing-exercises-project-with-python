{
 "cells": [
  {
   "cell_type": "markdown",
   "id": "d9d036c6",
   "metadata": {},
   "source": [
    "# Problemas de prueba de hipótesis"
   ]
  },
  {
   "cell_type": "markdown",
   "id": "d157c4db",
   "metadata": {},
   "source": [
    "## Ejercicio 1\n",
    "\n",
    "Usted es un nutricionista que investiga dos tipos diferentes de dietas para ver si existe una diferencia significativa en la pérdida de peso después de un mes. Eliges dos grupos aleatorios de personas; un grupo sigue la primera dieta y el otro sigue la segunda. Al final del mes, se registra la pérdida de peso (en kg) de cada persona:\n",
    "\n",
    "| Diet 1 | Diet 2 |\n",
    "|:-------|:-------|\n",
    "| 2.0 | 3.0 |\n",
    "| 2.5 | 3.2 |\n",
    "| 3.0 | 3.1 |\n",
    "| 2.8 | 2.9 |\n",
    "| 2.3 | 2.8 |\n",
    "| 2.7 | 3.0 |\n",
    "| 2.5 | 3.2 |\n",
    "\n",
    "Con estos datos se busca responder a la siguiente pregunta: ¿Existe una diferencia significativa en la pérdida de peso promedio entre las personas que siguieron la primera dieta y las que siguieron la segunda dieta?\n",
    "\n",
    "Para sacar conclusiones, siga los siguientes puntos:\n",
    "\n",
    "-Enunciar la hipótesis: hipótesis nula y alternativa.\n",
    "-Realizar la prueba para comprobar la hipótesis. Puede utilizar la prueba t de Student.\n",
    "-Analizar las conclusiones."
   ]
  },
  {
   "cell_type": "code",
   "execution_count": 3,
   "id": "8e0f3cf0",
   "metadata": {},
   "outputs": [
    {
     "name": "stdout",
     "output_type": "stream",
     "text": [
      "2.542857142857143\n",
      "3.0285714285714285\n",
      "-3.5383407969933938\n",
      "0.004083270191713912\n"
     ]
    }
   ],
   "source": [
    "# TODO\n",
    "import numpy as np\n",
    "#-Enunciar la hipótesis: hipótesis nula y alternativa.\n",
    "#H0 Las dietas no tienen una diferencia significativa en la pérdida de peso promedio de ambas dietas\n",
    "#H1 Las dietas tienen una diferencia significativa en la pérdida de peso promedio de ambas dietas\n",
    "dieta1=[2,2.5,3,2.8,2.3,2.7,2.5]\n",
    "dieta2=[3,3.2,3.1,2.9,2.8,3,3.2]\n",
    "print(np.mean(dieta1))\n",
    "print(np.mean(dieta2))\n",
    "\n",
    "\n",
    "#-Realizar la prueba para comprobar la hipótesis. Puede utilizar la prueba t de Student.\n",
    "import scipy.stats as stats\n",
    "t_value, p_value = stats.ttest_ind(dieta1,dieta2)\n",
    "print(t_value) #QUE TAN LEJOS ESTOY DE LA MEDIA\n",
    "print(p_value) #SI P VALUE ES MENOR QUE EL NIVEL DE SIGNIFICANCIA SE RECHAZA H0\n",
    "\n"
   ]
  },
  {
   "cell_type": "markdown",
   "id": "f432e18e",
   "metadata": {},
   "source": [
    "## ANOVA\n",
    "\n",
    "**ANOVA** (*Analysis of Variance - Análisis de variación*) Es una técnica estadística utilizada para comparar las medidas de dos o más grupos. La idea detrás de ANOVA es descomponer la variabilidad total de los datos en dos componentes: variabilidad entre grupos y variabilidad dentro de los grupos:\n",
    "\n",
    "- **Variabilidad entre grupos**: Esta variabilidad se refiere a las diferencias entre las medias del grupo. Si esta variabilidad es considerablemente mayor que la variabilidad dentro del grupo, podría ser una indicación de que al menos una de las medias del grupo es diferente.\n",
    "- **Variabilidad dentro del grupo**: Esta variabilidad se refiere a la dispersión de los datos dentro de cada grupo. Si todos los grupos tienen una variabilidad similar, entonces cualquier diferencia notable en las medias de los grupos podría considerarse significativa.\n",
    "\n",
    "Las hipótesis en ANOVA suelen incluir:\n",
    "\n",
    "- **Hipótesis nula** ($H₀$): Las medias de todos los grupos son iguales.\n",
    "- **Hipótesis alternativa** ($H₁$): Al menos una de las medias del grupo es diferente.\n",
    "\n",
    "Si el resultado de la prueba ANOVA es significativo (por ejemplo, un valor p inferior a un umbral como 0,05), esto sugiere que al menos la media de un grupo es diferente."
   ]
  },
  {
   "cell_type": "markdown",
   "id": "fc5f3721",
   "metadata": {},
   "source": [
    "## Ejercicio 2\n",
    "\n",
    "Un agricultor decide probar tres tipos diferentes de fertilizantes para determinar si alguno es superior en términos de producción de maíz. El agricultor planta maíz en 15 parcelas idénticas y utiliza los tres fertilizantes (5 parcelas para cada tipo). Al final de la temporada mide el rendimiento de maíz (en kg) de cada parcela, con el siguiente resultado:\n",
    "\n",
    "| Fertilizante 1 | Fertilizante 2 | Fertilizante 3 |\n",
    "|:-------------|:-------------|:-------------|\n",
    "| 20 | 22 | 24 |\n",
    "| 21 | 21 | 23 |\n",
    "| 20 | 23 | 22 |\n",
    "| 19 | 22 | 23 |\n",
    "| 20 | 21 | 24 |\n",
    "\n",
    "Con estos datos busca responder la siguiente pregunta: ¿Existe una diferencia significativa en el rendimiento promedio del maíz entre los tres tipos de fertilizantes?\n",
    "\n",
    "Para ayudarte, sigue los siguientes puntos:\n",
    "\n",
    "-Enunciar la hipótesis: hipótesis nula y alternativa.\n",
    "-Realizar la prueba ANOVA.\n",
    "-Analizar las conclusiones.\n",
    "-Si un fertilizante es mejor que otro, ¿cómo podemos saberlo?"
   ]
  },
  {
   "cell_type": "code",
   "execution_count": null,
   "id": "eecad0ca",
   "metadata": {},
   "outputs": [
    {
     "name": "stdout",
     "output_type": "stream",
     "text": [
      "20.0\n",
      "21.8\n",
      "23.2\n",
      "20.315789473684188\n",
      "0.00014047824793190472\n",
      "Multiple Comparison of Means - Tukey HSD, FWER=0.05\n",
      "==================================================\n",
      "group1 group2 meandiff p-adj  lower  upper  reject\n",
      "--------------------------------------------------\n",
      "    F1     F2      1.8 0.0099 0.4572 3.1428   True\n",
      "    F1     F3      3.2 0.0001 1.8572 4.5428   True\n",
      "    F2     F3      1.4 0.0409 0.0572 2.7428   True\n",
      "--------------------------------------------------\n"
     ]
    }
   ],
   "source": [
    "# TODO\n",
    "#-Enunciar la hipótesis: hipótesis nula y alternativa.\n",
    "#H0 No existe una diferencia significativa entre el rendimiento de cada ferilizante\n",
    "#H1 Existe una diferencia significativa entre el rendimiento de cada ferilizante\n",
    "F1=[20,21,20,19,20]\n",
    "F2=[22,21,23,22,21]\n",
    "F3=[24,23,22,23,24]\n",
    "print(np.mean(F1))\n",
    "print(np.mean(F2))\n",
    "print(np.mean(F3))\n",
    "\n",
    "\n",
    "\n",
    "#-Realizar la prueba ANOVA.\n",
    "f_valor, p_valor=stats.f_oneway(F1,F2,F3)\n",
    "print(f_valor)\n",
    "print(p_valor)\n",
    "#alpha = 0.001 \n",
    "\n",
    "\n",
    "\n",
    "#-Analizar las conclusiones.\n",
    "from statsmodels.stats.multicomp import pairwise_tukeyhsd\n",
    "data = np.concatenate([F1,F2,F3])\n",
    "labels=['F1']*5+['F2']*5+['F3']*5\n",
    "\n",
    "result=pairwise_tukeyhsd(data,labels,alpha=0.01)\n",
    "print(result)\n",
    "\n",
    "\n",
    "\n",
    "#-Si un fertilizante es mejor que otro, ¿cómo podemos saberlo?\n",
    "#El fertilizante F3 tiene un rendimiento significativamente mayor que F1, pero no es significativamente diferente de F2 con el nivel de significancia estricto de α=0.001. Por lo tanto, F3 podría ser considerado el mejor en este caso. ​​\n"
   ]
  }
 ],
 "metadata": {
  "kernelspec": {
   "display_name": "Python 3",
   "language": "python",
   "name": "python3"
  },
  "language_info": {
   "codemirror_mode": {
    "name": "ipython",
    "version": 3
   },
   "file_extension": ".py",
   "mimetype": "text/x-python",
   "name": "python",
   "nbconvert_exporter": "python",
   "pygments_lexer": "ipython3",
   "version": "3.11.4"
  }
 },
 "nbformat": 4,
 "nbformat_minor": 5
}
